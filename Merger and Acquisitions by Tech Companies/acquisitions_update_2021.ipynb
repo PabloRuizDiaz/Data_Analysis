{
  "nbformat": 4,
  "nbformat_minor": 0,
  "metadata": {
    "colab": {
      "provenance": []
    },
    "kernelspec": {
      "name": "python3",
      "display_name": "Python 3"
    },
    "language_info": {
      "name": "python"
    }
  },
  "cells": [
    {
      "cell_type": "markdown",
      "source": [
        "<a>https://www.kaggle.com/datasets/shivamb/company-acquisitions-7-top-companies</a>\n",
        "\n",
        "<H1><b>About Dataset</b></H1>\n",
        "\n",
        "<p>Tech Companies - Merger and Acquisitions Dataset - Software Companies\n",
        "This dataset contains the list of acquisitions made by the following companies:</p>\n",
        "\n",
        "<p>Microsoft, Google, IBM, Hp, Apple, Amazon, Facebook, Twitter, eBay, Adobe, Citrix, Redhat, Blackberry, Disney</p>\n",
        "\n",
        "<p>The attributes include the date, year, month of the acquisition, name of the company acquired, value or the cost of acquisition, business use-case of the acquisition, and the country from which the acquisition was made. The source of the dataset is Wikipedia, TechCrunch, and CrunchBase.<p>\n",
        "\n",
        "<br>\n",
        "\n",
        "<p><b>Interesting Tasks and Analysis Ideas</b></p>\n",
        "<p>I. Which company makes the acquisitions quickly</p>\n",
        "<p>II. What is the trend of business use-cases among the acquired companies throughout the years</p>\n",
        "<p>III. What can be forecasted for upcoming years in terms of acquisitions</p>\n",
        "<p> IV. Predict who is likely to make next acquisitions and when</p>"
      ],
      "metadata": {
        "id": "rXxvszkOYUzk"
      }
    },
    {
      "cell_type": "markdown",
      "source": [
        "<H2><b>Columns</H2></b>\n",
        "\n",
        "<p><i>C = Categorical</i></p>\n",
        "\n",
        "<p><i>N = Numerical</i></p>\n",
        "\n",
        "<p>(N) 'ID'</p>\n",
        "<p>(C) 'Parent Company'</p>\n",
        "<p>(N) 'Acquisition Year'</p>\n",
        "<p>(C) 'Acquisition Month'</p>\n",
        "<p>(C) 'Acquired Company'</p>\n",
        "<p>(C) 'Business'</p>\n",
        "<p>(C) 'Country'</p>\n",
        "<p>(N) 'Acquisition Price'</p>\n",
        "<p>(C) 'Category'</p>\n",
        "<p>(C) 'Derived Products'</p>"
      ],
      "metadata": {
        "id": "7cGWCyZ8Z6At"
      }
    },
    {
      "cell_type": "markdown",
      "source": [
        "---\n",
        "# <H2><b>Preparing my dataframe</H2></b>"
      ],
      "metadata": {
        "id": "am9sZFNUatRv"
      }
    },
    {
      "cell_type": "code",
      "source": [
        "import pandas as pd\n",
        "import numpy as np\n",
        "import matplotlib.pyplot as plt\n",
        "import seaborn as sns\n",
        "%matplotlib inline"
      ],
      "metadata": {
        "id": "M4oYvCgPaPR2"
      },
      "execution_count": 1,
      "outputs": []
    },
    {
      "cell_type": "code",
      "execution_count": 2,
      "metadata": {
        "id": "4be8DY57YRV6"
      },
      "outputs": [],
      "source": [
        "from google.colab import auth\n",
        "import gspread\n",
        "from google.auth import default\n",
        "\n",
        "#autenticating to google\n",
        "auth.authenticate_user()\n",
        "creds, _ = default()\n",
        "gc = gspread.authorize(creds)\n",
        "\n",
        "#defining my worksheet\n",
        "worksheet = gc.open('acquisitions_update_2021').sheet1\n",
        "\n",
        "#get_all_values gives a list of rows\n",
        "rows = worksheet.get_all_values()\n",
        "\n",
        "#Convert to a DataFrame \n",
        "df = pd.DataFrame(rows)\n",
        "\n",
        "#creating columns name\n",
        "df.columns = df.iloc[0]\n",
        "df = df.iloc[1:]"
      ]
    },
    {
      "cell_type": "markdown",
      "source": [
        "# <H2><b>Analising my dataframe</H2></b>"
      ],
      "metadata": {
        "id": "3_wumkTcai8q"
      }
    },
    {
      "cell_type": "code",
      "source": [
        "df.columns"
      ],
      "metadata": {
        "colab": {
          "base_uri": "https://localhost:8080/"
        },
        "id": "TrgOsEIKalPq",
        "outputId": "7c6f3353-5b65-4b40-feef-128d9ca4924b"
      },
      "execution_count": 3,
      "outputs": [
        {
          "output_type": "execute_result",
          "data": {
            "text/plain": [
              "Index(['ID', 'Parent Company', 'Acquisition Year', 'Acquisition Month',\n",
              "       'Acquired Company', 'Business', 'Country', 'Acquisition Price',\n",
              "       'Category', 'Derived Products'],\n",
              "      dtype='object', name=0)"
            ]
          },
          "metadata": {},
          "execution_count": 3
        }
      ]
    },
    {
      "cell_type": "code",
      "source": [
        "df.shape"
      ],
      "metadata": {
        "colab": {
          "base_uri": "https://localhost:8080/"
        },
        "id": "lq6yi4R8sMnE",
        "outputId": "fed7e20e-3eec-46ee-984a-19556919a063"
      },
      "execution_count": 4,
      "outputs": [
        {
          "output_type": "execute_result",
          "data": {
            "text/plain": [
              "(1455, 10)"
            ]
          },
          "metadata": {},
          "execution_count": 4
        }
      ]
    },
    {
      "cell_type": "code",
      "source": [
        "df.head()"
      ],
      "metadata": {
        "colab": {
          "base_uri": "https://localhost:8080/",
          "height": 206
        },
        "id": "0KEC0Hb3sPp4",
        "outputId": "c1d55f6f-10a0-492f-9e77-1347f7db13a1"
      },
      "execution_count": 5,
      "outputs": [
        {
          "output_type": "execute_result",
          "data": {
            "text/plain": [
              "0 ID Parent Company Acquisition Year Acquisition Month       Acquired Company  \\\n",
              "1  1          Apple             1988               Mar    Network Innovations   \n",
              "2  2          Apple             1988               Jun  Orion Network Systems   \n",
              "3  3          Apple             1988               Jun              Styleware   \n",
              "4  4          Apple             1988               Jul        Nashoba Systems   \n",
              "5  5          Apple             1989               Jan         Coral Software   \n",
              "\n",
              "0           Business Country Acquisition Price Category Derived Products  \n",
              "1           Software       -                 -        -                -  \n",
              "2  Computer Software       -                 -        -                -  \n",
              "3  Computer software       -                 -        -                -  \n",
              "4  Computer software       -                 -        -                -  \n",
              "5  Computer software       -                 -        -                -  "
            ],
            "text/html": [
              "\n",
              "  <div id=\"df-c151268e-73eb-42fe-b36d-9d216f5bc60a\">\n",
              "    <div class=\"colab-df-container\">\n",
              "      <div>\n",
              "<style scoped>\n",
              "    .dataframe tbody tr th:only-of-type {\n",
              "        vertical-align: middle;\n",
              "    }\n",
              "\n",
              "    .dataframe tbody tr th {\n",
              "        vertical-align: top;\n",
              "    }\n",
              "\n",
              "    .dataframe thead th {\n",
              "        text-align: right;\n",
              "    }\n",
              "</style>\n",
              "<table border=\"1\" class=\"dataframe\">\n",
              "  <thead>\n",
              "    <tr style=\"text-align: right;\">\n",
              "      <th></th>\n",
              "      <th>ID</th>\n",
              "      <th>Parent Company</th>\n",
              "      <th>Acquisition Year</th>\n",
              "      <th>Acquisition Month</th>\n",
              "      <th>Acquired Company</th>\n",
              "      <th>Business</th>\n",
              "      <th>Country</th>\n",
              "      <th>Acquisition Price</th>\n",
              "      <th>Category</th>\n",
              "      <th>Derived Products</th>\n",
              "    </tr>\n",
              "  </thead>\n",
              "  <tbody>\n",
              "    <tr>\n",
              "      <th>1</th>\n",
              "      <td>1</td>\n",
              "      <td>Apple</td>\n",
              "      <td>1988</td>\n",
              "      <td>Mar</td>\n",
              "      <td>Network Innovations</td>\n",
              "      <td>Software</td>\n",
              "      <td>-</td>\n",
              "      <td>-</td>\n",
              "      <td>-</td>\n",
              "      <td>-</td>\n",
              "    </tr>\n",
              "    <tr>\n",
              "      <th>2</th>\n",
              "      <td>2</td>\n",
              "      <td>Apple</td>\n",
              "      <td>1988</td>\n",
              "      <td>Jun</td>\n",
              "      <td>Orion Network Systems</td>\n",
              "      <td>Computer Software</td>\n",
              "      <td>-</td>\n",
              "      <td>-</td>\n",
              "      <td>-</td>\n",
              "      <td>-</td>\n",
              "    </tr>\n",
              "    <tr>\n",
              "      <th>3</th>\n",
              "      <td>3</td>\n",
              "      <td>Apple</td>\n",
              "      <td>1988</td>\n",
              "      <td>Jun</td>\n",
              "      <td>Styleware</td>\n",
              "      <td>Computer software</td>\n",
              "      <td>-</td>\n",
              "      <td>-</td>\n",
              "      <td>-</td>\n",
              "      <td>-</td>\n",
              "    </tr>\n",
              "    <tr>\n",
              "      <th>4</th>\n",
              "      <td>4</td>\n",
              "      <td>Apple</td>\n",
              "      <td>1988</td>\n",
              "      <td>Jul</td>\n",
              "      <td>Nashoba Systems</td>\n",
              "      <td>Computer software</td>\n",
              "      <td>-</td>\n",
              "      <td>-</td>\n",
              "      <td>-</td>\n",
              "      <td>-</td>\n",
              "    </tr>\n",
              "    <tr>\n",
              "      <th>5</th>\n",
              "      <td>5</td>\n",
              "      <td>Apple</td>\n",
              "      <td>1989</td>\n",
              "      <td>Jan</td>\n",
              "      <td>Coral Software</td>\n",
              "      <td>Computer software</td>\n",
              "      <td>-</td>\n",
              "      <td>-</td>\n",
              "      <td>-</td>\n",
              "      <td>-</td>\n",
              "    </tr>\n",
              "  </tbody>\n",
              "</table>\n",
              "</div>\n",
              "      <button class=\"colab-df-convert\" onclick=\"convertToInteractive('df-c151268e-73eb-42fe-b36d-9d216f5bc60a')\"\n",
              "              title=\"Convert this dataframe to an interactive table.\"\n",
              "              style=\"display:none;\">\n",
              "        \n",
              "  <svg xmlns=\"http://www.w3.org/2000/svg\" height=\"24px\"viewBox=\"0 0 24 24\"\n",
              "       width=\"24px\">\n",
              "    <path d=\"M0 0h24v24H0V0z\" fill=\"none\"/>\n",
              "    <path d=\"M18.56 5.44l.94 2.06.94-2.06 2.06-.94-2.06-.94-.94-2.06-.94 2.06-2.06.94zm-11 1L8.5 8.5l.94-2.06 2.06-.94-2.06-.94L8.5 2.5l-.94 2.06-2.06.94zm10 10l.94 2.06.94-2.06 2.06-.94-2.06-.94-.94-2.06-.94 2.06-2.06.94z\"/><path d=\"M17.41 7.96l-1.37-1.37c-.4-.4-.92-.59-1.43-.59-.52 0-1.04.2-1.43.59L10.3 9.45l-7.72 7.72c-.78.78-.78 2.05 0 2.83L4 21.41c.39.39.9.59 1.41.59.51 0 1.02-.2 1.41-.59l7.78-7.78 2.81-2.81c.8-.78.8-2.07 0-2.86zM5.41 20L4 18.59l7.72-7.72 1.47 1.35L5.41 20z\"/>\n",
              "  </svg>\n",
              "      </button>\n",
              "      \n",
              "  <style>\n",
              "    .colab-df-container {\n",
              "      display:flex;\n",
              "      flex-wrap:wrap;\n",
              "      gap: 12px;\n",
              "    }\n",
              "\n",
              "    .colab-df-convert {\n",
              "      background-color: #E8F0FE;\n",
              "      border: none;\n",
              "      border-radius: 50%;\n",
              "      cursor: pointer;\n",
              "      display: none;\n",
              "      fill: #1967D2;\n",
              "      height: 32px;\n",
              "      padding: 0 0 0 0;\n",
              "      width: 32px;\n",
              "    }\n",
              "\n",
              "    .colab-df-convert:hover {\n",
              "      background-color: #E2EBFA;\n",
              "      box-shadow: 0px 1px 2px rgba(60, 64, 67, 0.3), 0px 1px 3px 1px rgba(60, 64, 67, 0.15);\n",
              "      fill: #174EA6;\n",
              "    }\n",
              "\n",
              "    [theme=dark] .colab-df-convert {\n",
              "      background-color: #3B4455;\n",
              "      fill: #D2E3FC;\n",
              "    }\n",
              "\n",
              "    [theme=dark] .colab-df-convert:hover {\n",
              "      background-color: #434B5C;\n",
              "      box-shadow: 0px 1px 3px 1px rgba(0, 0, 0, 0.15);\n",
              "      filter: drop-shadow(0px 1px 2px rgba(0, 0, 0, 0.3));\n",
              "      fill: #FFFFFF;\n",
              "    }\n",
              "  </style>\n",
              "\n",
              "      <script>\n",
              "        const buttonEl =\n",
              "          document.querySelector('#df-c151268e-73eb-42fe-b36d-9d216f5bc60a button.colab-df-convert');\n",
              "        buttonEl.style.display =\n",
              "          google.colab.kernel.accessAllowed ? 'block' : 'none';\n",
              "\n",
              "        async function convertToInteractive(key) {\n",
              "          const element = document.querySelector('#df-c151268e-73eb-42fe-b36d-9d216f5bc60a');\n",
              "          const dataTable =\n",
              "            await google.colab.kernel.invokeFunction('convertToInteractive',\n",
              "                                                     [key], {});\n",
              "          if (!dataTable) return;\n",
              "\n",
              "          const docLinkHtml = 'Like what you see? Visit the ' +\n",
              "            '<a target=\"_blank\" href=https://colab.research.google.com/notebooks/data_table.ipynb>data table notebook</a>'\n",
              "            + ' to learn more about interactive tables.';\n",
              "          element.innerHTML = '';\n",
              "          dataTable['output_type'] = 'display_data';\n",
              "          await google.colab.output.renderOutput(dataTable, element);\n",
              "          const docLink = document.createElement('div');\n",
              "          docLink.innerHTML = docLinkHtml;\n",
              "          element.appendChild(docLink);\n",
              "        }\n",
              "      </script>\n",
              "    </div>\n",
              "  </div>\n",
              "  "
            ]
          },
          "metadata": {},
          "execution_count": 5
        }
      ]
    },
    {
      "cell_type": "code",
      "source": [
        "df = df.replace({'-': np.nan})"
      ],
      "metadata": {
        "id": "CAroJhiouO8w"
      },
      "execution_count": 6,
      "outputs": []
    },
    {
      "cell_type": "code",
      "source": [
        "df.info()"
      ],
      "metadata": {
        "colab": {
          "base_uri": "https://localhost:8080/"
        },
        "id": "ACb39uwMsU-3",
        "outputId": "98a9993c-0365-4eba-bdce-705c0970a488"
      },
      "execution_count": 7,
      "outputs": [
        {
          "output_type": "stream",
          "name": "stdout",
          "text": [
            "<class 'pandas.core.frame.DataFrame'>\n",
            "RangeIndex: 1455 entries, 1 to 1455\n",
            "Data columns (total 10 columns):\n",
            " #   Column             Non-Null Count  Dtype \n",
            "---  ------             --------------  ----- \n",
            " 0   ID                 1455 non-null   object\n",
            " 1   Parent Company     1455 non-null   object\n",
            " 2   Acquisition Year   1427 non-null   object\n",
            " 3   Acquisition Month  1397 non-null   object\n",
            " 4   Acquired Company   1455 non-null   object\n",
            " 5   Business           1181 non-null   object\n",
            " 6   Country            341 non-null    object\n",
            " 7   Acquisition Price  510 non-null    object\n",
            " 8   Category           10 non-null     object\n",
            " 9   Derived Products   403 non-null    object\n",
            "dtypes: object(10)\n",
            "memory usage: 113.8+ KB\n"
          ]
        }
      ]
    },
    {
      "cell_type": "code",
      "source": [
        "def missing_data(df):\n",
        "    total = df.isnull().sum().sort_values(ascending = False)\n",
        "    Percentage = (df.isnull().sum()/df.isnull().count()*100).sort_values(ascending = False)\n",
        "    return pd.concat([total, Percentage], axis=1, keys=['Total', 'Percentage'])\n",
        "\n",
        "missing_data(df)"
      ],
      "metadata": {
        "colab": {
          "base_uri": "https://localhost:8080/",
          "height": 394
        },
        "id": "2adKVbVRsY-V",
        "outputId": "b667aab2-357e-4c61-c1bc-6ca376dfe2d2"
      },
      "execution_count": 8,
      "outputs": [
        {
          "output_type": "execute_result",
          "data": {
            "text/plain": [
              "                   Total  Percentage\n",
              "0                                   \n",
              "Category            1445   99.312715\n",
              "Country             1114   76.563574\n",
              "Derived Products    1052   72.302405\n",
              "Acquisition Price    945   64.948454\n",
              "Business             274   18.831615\n",
              "Acquisition Month     58    3.986254\n",
              "Acquisition Year      28    1.924399\n",
              "ID                     0    0.000000\n",
              "Parent Company         0    0.000000\n",
              "Acquired Company       0    0.000000"
            ],
            "text/html": [
              "\n",
              "  <div id=\"df-cfa924a1-cfce-4315-8413-d2a9e2fb7114\">\n",
              "    <div class=\"colab-df-container\">\n",
              "      <div>\n",
              "<style scoped>\n",
              "    .dataframe tbody tr th:only-of-type {\n",
              "        vertical-align: middle;\n",
              "    }\n",
              "\n",
              "    .dataframe tbody tr th {\n",
              "        vertical-align: top;\n",
              "    }\n",
              "\n",
              "    .dataframe thead th {\n",
              "        text-align: right;\n",
              "    }\n",
              "</style>\n",
              "<table border=\"1\" class=\"dataframe\">\n",
              "  <thead>\n",
              "    <tr style=\"text-align: right;\">\n",
              "      <th></th>\n",
              "      <th>Total</th>\n",
              "      <th>Percentage</th>\n",
              "    </tr>\n",
              "    <tr>\n",
              "      <th>0</th>\n",
              "      <th></th>\n",
              "      <th></th>\n",
              "    </tr>\n",
              "  </thead>\n",
              "  <tbody>\n",
              "    <tr>\n",
              "      <th>Category</th>\n",
              "      <td>1445</td>\n",
              "      <td>99.312715</td>\n",
              "    </tr>\n",
              "    <tr>\n",
              "      <th>Country</th>\n",
              "      <td>1114</td>\n",
              "      <td>76.563574</td>\n",
              "    </tr>\n",
              "    <tr>\n",
              "      <th>Derived Products</th>\n",
              "      <td>1052</td>\n",
              "      <td>72.302405</td>\n",
              "    </tr>\n",
              "    <tr>\n",
              "      <th>Acquisition Price</th>\n",
              "      <td>945</td>\n",
              "      <td>64.948454</td>\n",
              "    </tr>\n",
              "    <tr>\n",
              "      <th>Business</th>\n",
              "      <td>274</td>\n",
              "      <td>18.831615</td>\n",
              "    </tr>\n",
              "    <tr>\n",
              "      <th>Acquisition Month</th>\n",
              "      <td>58</td>\n",
              "      <td>3.986254</td>\n",
              "    </tr>\n",
              "    <tr>\n",
              "      <th>Acquisition Year</th>\n",
              "      <td>28</td>\n",
              "      <td>1.924399</td>\n",
              "    </tr>\n",
              "    <tr>\n",
              "      <th>ID</th>\n",
              "      <td>0</td>\n",
              "      <td>0.000000</td>\n",
              "    </tr>\n",
              "    <tr>\n",
              "      <th>Parent Company</th>\n",
              "      <td>0</td>\n",
              "      <td>0.000000</td>\n",
              "    </tr>\n",
              "    <tr>\n",
              "      <th>Acquired Company</th>\n",
              "      <td>0</td>\n",
              "      <td>0.000000</td>\n",
              "    </tr>\n",
              "  </tbody>\n",
              "</table>\n",
              "</div>\n",
              "      <button class=\"colab-df-convert\" onclick=\"convertToInteractive('df-cfa924a1-cfce-4315-8413-d2a9e2fb7114')\"\n",
              "              title=\"Convert this dataframe to an interactive table.\"\n",
              "              style=\"display:none;\">\n",
              "        \n",
              "  <svg xmlns=\"http://www.w3.org/2000/svg\" height=\"24px\"viewBox=\"0 0 24 24\"\n",
              "       width=\"24px\">\n",
              "    <path d=\"M0 0h24v24H0V0z\" fill=\"none\"/>\n",
              "    <path d=\"M18.56 5.44l.94 2.06.94-2.06 2.06-.94-2.06-.94-.94-2.06-.94 2.06-2.06.94zm-11 1L8.5 8.5l.94-2.06 2.06-.94-2.06-.94L8.5 2.5l-.94 2.06-2.06.94zm10 10l.94 2.06.94-2.06 2.06-.94-2.06-.94-.94-2.06-.94 2.06-2.06.94z\"/><path d=\"M17.41 7.96l-1.37-1.37c-.4-.4-.92-.59-1.43-.59-.52 0-1.04.2-1.43.59L10.3 9.45l-7.72 7.72c-.78.78-.78 2.05 0 2.83L4 21.41c.39.39.9.59 1.41.59.51 0 1.02-.2 1.41-.59l7.78-7.78 2.81-2.81c.8-.78.8-2.07 0-2.86zM5.41 20L4 18.59l7.72-7.72 1.47 1.35L5.41 20z\"/>\n",
              "  </svg>\n",
              "      </button>\n",
              "      \n",
              "  <style>\n",
              "    .colab-df-container {\n",
              "      display:flex;\n",
              "      flex-wrap:wrap;\n",
              "      gap: 12px;\n",
              "    }\n",
              "\n",
              "    .colab-df-convert {\n",
              "      background-color: #E8F0FE;\n",
              "      border: none;\n",
              "      border-radius: 50%;\n",
              "      cursor: pointer;\n",
              "      display: none;\n",
              "      fill: #1967D2;\n",
              "      height: 32px;\n",
              "      padding: 0 0 0 0;\n",
              "      width: 32px;\n",
              "    }\n",
              "\n",
              "    .colab-df-convert:hover {\n",
              "      background-color: #E2EBFA;\n",
              "      box-shadow: 0px 1px 2px rgba(60, 64, 67, 0.3), 0px 1px 3px 1px rgba(60, 64, 67, 0.15);\n",
              "      fill: #174EA6;\n",
              "    }\n",
              "\n",
              "    [theme=dark] .colab-df-convert {\n",
              "      background-color: #3B4455;\n",
              "      fill: #D2E3FC;\n",
              "    }\n",
              "\n",
              "    [theme=dark] .colab-df-convert:hover {\n",
              "      background-color: #434B5C;\n",
              "      box-shadow: 0px 1px 3px 1px rgba(0, 0, 0, 0.15);\n",
              "      filter: drop-shadow(0px 1px 2px rgba(0, 0, 0, 0.3));\n",
              "      fill: #FFFFFF;\n",
              "    }\n",
              "  </style>\n",
              "\n",
              "      <script>\n",
              "        const buttonEl =\n",
              "          document.querySelector('#df-cfa924a1-cfce-4315-8413-d2a9e2fb7114 button.colab-df-convert');\n",
              "        buttonEl.style.display =\n",
              "          google.colab.kernel.accessAllowed ? 'block' : 'none';\n",
              "\n",
              "        async function convertToInteractive(key) {\n",
              "          const element = document.querySelector('#df-cfa924a1-cfce-4315-8413-d2a9e2fb7114');\n",
              "          const dataTable =\n",
              "            await google.colab.kernel.invokeFunction('convertToInteractive',\n",
              "                                                     [key], {});\n",
              "          if (!dataTable) return;\n",
              "\n",
              "          const docLinkHtml = 'Like what you see? Visit the ' +\n",
              "            '<a target=\"_blank\" href=https://colab.research.google.com/notebooks/data_table.ipynb>data table notebook</a>'\n",
              "            + ' to learn more about interactive tables.';\n",
              "          element.innerHTML = '';\n",
              "          dataTable['output_type'] = 'display_data';\n",
              "          await google.colab.output.renderOutput(dataTable, element);\n",
              "          const docLink = document.createElement('div');\n",
              "          docLink.innerHTML = docLinkHtml;\n",
              "          element.appendChild(docLink);\n",
              "        }\n",
              "      </script>\n",
              "    </div>\n",
              "  </div>\n",
              "  "
            ]
          },
          "metadata": {},
          "execution_count": 8
        }
      ]
    },
    {
      "cell_type": "code",
      "source": [
        "df.duplicated().sum()"
      ],
      "metadata": {
        "colab": {
          "base_uri": "https://localhost:8080/"
        },
        "id": "k7Q1Hil6spMU",
        "outputId": "7ca84b27-c220-457a-8d18-ade5168fca14"
      },
      "execution_count": 9,
      "outputs": [
        {
          "output_type": "execute_result",
          "data": {
            "text/plain": [
              "0"
            ]
          },
          "metadata": {},
          "execution_count": 9
        }
      ]
    },
    {
      "cell_type": "code",
      "source": [
        "df[['ID', 'Parent Company', 'Acquisition Year', 'Acquisition Month',\n",
        "       'Acquired Company', 'Business', 'Country', 'Acquisition Price',\n",
        "       'Category', 'Derived Products']].nunique()"
      ],
      "metadata": {
        "colab": {
          "base_uri": "https://localhost:8080/"
        },
        "id": "1tfc-Oi3s218",
        "outputId": "46915567-6f08-4824-8c3b-a460127d2522"
      },
      "execution_count": 10,
      "outputs": [
        {
          "output_type": "execute_result",
          "data": {
            "text/plain": [
              "0\n",
              "ID                   1455\n",
              "Parent Company         14\n",
              "Acquisition Year       46\n",
              "Acquisition Month      12\n",
              "Acquired Company     1452\n",
              "Business              864\n",
              "Country                25\n",
              "Acquisition Price     228\n",
              "Category                9\n",
              "Derived Products      235\n",
              "dtype: int64"
            ]
          },
          "metadata": {},
          "execution_count": 10
        }
      ]
    },
    {
      "cell_type": "code",
      "source": [
        "df['Country'].unique()"
      ],
      "metadata": {
        "colab": {
          "base_uri": "https://localhost:8080/"
        },
        "id": "OL6hw33f3TEC",
        "outputId": "16e05464-8e71-47a4-e2c3-ca79ecc8c6b9"
      },
      "execution_count": 11,
      "outputs": [
        {
          "output_type": "execute_result",
          "data": {
            "text/plain": [
              "array([nan, 'United States', 'United Kingdom', 'South Korea', 'Norway',\n",
              "       'Canada', 'Australia', 'India', 'France', 'Denmark', 'Switzerland',\n",
              "       'Brazil', 'Netherlands', 'Israel', 'Sweden', 'Hong Kong',\n",
              "       'Singapore', 'Ireland', 'Italy', 'Germany', 'Finland', 'Spain',\n",
              "       'Malaysia', 'Belarus', 'Czech Republic', 'New Zealand'],\n",
              "      dtype=object)"
            ]
          },
          "metadata": {},
          "execution_count": 11
        }
      ]
    },
    {
      "cell_type": "code",
      "source": [
        "df['Derived Products'].value_counts()"
      ],
      "metadata": {
        "colab": {
          "base_uri": "https://localhost:8080/"
        },
        "id": "vLDynWjE32C_",
        "outputId": "f1ba0ae8-e858-45f9-c3f8-31b40e80042e"
      },
      "execution_count": 12,
      "outputs": [
        {
          "output_type": "execute_result",
          "data": {
            "text/plain": [
              "Google Cloud Platform          22\n",
              "Android                        19\n",
              "Amazon Web Services            17\n",
              "YouTube                        12\n",
              "X                               9\n",
              "                               ..\n",
              "Google Web Toolkit              1\n",
              "Google+, Orkut, Google Play     1\n",
              "Google+, Orkut                  1\n",
              "Google, Google Alert            1\n",
              "Citrix Workspace                1\n",
              "Name: Derived Products, Length: 235, dtype: int64"
            ]
          },
          "metadata": {},
          "execution_count": 12
        }
      ]
    },
    {
      "cell_type": "markdown",
      "source": [
        "<H3><b>Observations:</b><H3>\n",
        "\n",
        "<p>Regarding the first observations around our dataframe or dataset, we can conclude  columns 'Category', 'Country', 'Derived Products' and 'Acquisition Price' are not useful for our analysis, in a wake of poor amount of data and importance to answer our questions. Finally, 'ID' because it does not give us any information.</p>"
      ],
      "metadata": {
        "id": "dvgxkAdSBl-E"
      }
    },
    {
      "cell_type": "code",
      "source": [
        "df.drop(['ID', 'Category', 'Country', 'Derived Products', 'Acquisition Price'], axis=1, inplace=True)"
      ],
      "metadata": {
        "id": "OuBjsC_6CXwH"
      },
      "execution_count": 13,
      "outputs": []
    },
    {
      "cell_type": "code",
      "source": [
        "missing_data(df)"
      ],
      "metadata": {
        "colab": {
          "base_uri": "https://localhost:8080/",
          "height": 237
        },
        "id": "TywtbgbtDmm3",
        "outputId": "25d59e26-2f19-40f4-d76b-fab651589c1d"
      },
      "execution_count": 14,
      "outputs": [
        {
          "output_type": "execute_result",
          "data": {
            "text/plain": [
              "                   Total  Percentage\n",
              "0                                   \n",
              "Business             274   18.831615\n",
              "Acquisition Month     58    3.986254\n",
              "Acquisition Year      28    1.924399\n",
              "Parent Company         0    0.000000\n",
              "Acquired Company       0    0.000000"
            ],
            "text/html": [
              "\n",
              "  <div id=\"df-0e8b63ef-b0df-4b11-800e-31aff44480a3\">\n",
              "    <div class=\"colab-df-container\">\n",
              "      <div>\n",
              "<style scoped>\n",
              "    .dataframe tbody tr th:only-of-type {\n",
              "        vertical-align: middle;\n",
              "    }\n",
              "\n",
              "    .dataframe tbody tr th {\n",
              "        vertical-align: top;\n",
              "    }\n",
              "\n",
              "    .dataframe thead th {\n",
              "        text-align: right;\n",
              "    }\n",
              "</style>\n",
              "<table border=\"1\" class=\"dataframe\">\n",
              "  <thead>\n",
              "    <tr style=\"text-align: right;\">\n",
              "      <th></th>\n",
              "      <th>Total</th>\n",
              "      <th>Percentage</th>\n",
              "    </tr>\n",
              "    <tr>\n",
              "      <th>0</th>\n",
              "      <th></th>\n",
              "      <th></th>\n",
              "    </tr>\n",
              "  </thead>\n",
              "  <tbody>\n",
              "    <tr>\n",
              "      <th>Business</th>\n",
              "      <td>274</td>\n",
              "      <td>18.831615</td>\n",
              "    </tr>\n",
              "    <tr>\n",
              "      <th>Acquisition Month</th>\n",
              "      <td>58</td>\n",
              "      <td>3.986254</td>\n",
              "    </tr>\n",
              "    <tr>\n",
              "      <th>Acquisition Year</th>\n",
              "      <td>28</td>\n",
              "      <td>1.924399</td>\n",
              "    </tr>\n",
              "    <tr>\n",
              "      <th>Parent Company</th>\n",
              "      <td>0</td>\n",
              "      <td>0.000000</td>\n",
              "    </tr>\n",
              "    <tr>\n",
              "      <th>Acquired Company</th>\n",
              "      <td>0</td>\n",
              "      <td>0.000000</td>\n",
              "    </tr>\n",
              "  </tbody>\n",
              "</table>\n",
              "</div>\n",
              "      <button class=\"colab-df-convert\" onclick=\"convertToInteractive('df-0e8b63ef-b0df-4b11-800e-31aff44480a3')\"\n",
              "              title=\"Convert this dataframe to an interactive table.\"\n",
              "              style=\"display:none;\">\n",
              "        \n",
              "  <svg xmlns=\"http://www.w3.org/2000/svg\" height=\"24px\"viewBox=\"0 0 24 24\"\n",
              "       width=\"24px\">\n",
              "    <path d=\"M0 0h24v24H0V0z\" fill=\"none\"/>\n",
              "    <path d=\"M18.56 5.44l.94 2.06.94-2.06 2.06-.94-2.06-.94-.94-2.06-.94 2.06-2.06.94zm-11 1L8.5 8.5l.94-2.06 2.06-.94-2.06-.94L8.5 2.5l-.94 2.06-2.06.94zm10 10l.94 2.06.94-2.06 2.06-.94-2.06-.94-.94-2.06-.94 2.06-2.06.94z\"/><path d=\"M17.41 7.96l-1.37-1.37c-.4-.4-.92-.59-1.43-.59-.52 0-1.04.2-1.43.59L10.3 9.45l-7.72 7.72c-.78.78-.78 2.05 0 2.83L4 21.41c.39.39.9.59 1.41.59.51 0 1.02-.2 1.41-.59l7.78-7.78 2.81-2.81c.8-.78.8-2.07 0-2.86zM5.41 20L4 18.59l7.72-7.72 1.47 1.35L5.41 20z\"/>\n",
              "  </svg>\n",
              "      </button>\n",
              "      \n",
              "  <style>\n",
              "    .colab-df-container {\n",
              "      display:flex;\n",
              "      flex-wrap:wrap;\n",
              "      gap: 12px;\n",
              "    }\n",
              "\n",
              "    .colab-df-convert {\n",
              "      background-color: #E8F0FE;\n",
              "      border: none;\n",
              "      border-radius: 50%;\n",
              "      cursor: pointer;\n",
              "      display: none;\n",
              "      fill: #1967D2;\n",
              "      height: 32px;\n",
              "      padding: 0 0 0 0;\n",
              "      width: 32px;\n",
              "    }\n",
              "\n",
              "    .colab-df-convert:hover {\n",
              "      background-color: #E2EBFA;\n",
              "      box-shadow: 0px 1px 2px rgba(60, 64, 67, 0.3), 0px 1px 3px 1px rgba(60, 64, 67, 0.15);\n",
              "      fill: #174EA6;\n",
              "    }\n",
              "\n",
              "    [theme=dark] .colab-df-convert {\n",
              "      background-color: #3B4455;\n",
              "      fill: #D2E3FC;\n",
              "    }\n",
              "\n",
              "    [theme=dark] .colab-df-convert:hover {\n",
              "      background-color: #434B5C;\n",
              "      box-shadow: 0px 1px 3px 1px rgba(0, 0, 0, 0.15);\n",
              "      filter: drop-shadow(0px 1px 2px rgba(0, 0, 0, 0.3));\n",
              "      fill: #FFFFFF;\n",
              "    }\n",
              "  </style>\n",
              "\n",
              "      <script>\n",
              "        const buttonEl =\n",
              "          document.querySelector('#df-0e8b63ef-b0df-4b11-800e-31aff44480a3 button.colab-df-convert');\n",
              "        buttonEl.style.display =\n",
              "          google.colab.kernel.accessAllowed ? 'block' : 'none';\n",
              "\n",
              "        async function convertToInteractive(key) {\n",
              "          const element = document.querySelector('#df-0e8b63ef-b0df-4b11-800e-31aff44480a3');\n",
              "          const dataTable =\n",
              "            await google.colab.kernel.invokeFunction('convertToInteractive',\n",
              "                                                     [key], {});\n",
              "          if (!dataTable) return;\n",
              "\n",
              "          const docLinkHtml = 'Like what you see? Visit the ' +\n",
              "            '<a target=\"_blank\" href=https://colab.research.google.com/notebooks/data_table.ipynb>data table notebook</a>'\n",
              "            + ' to learn more about interactive tables.';\n",
              "          element.innerHTML = '';\n",
              "          dataTable['output_type'] = 'display_data';\n",
              "          await google.colab.output.renderOutput(dataTable, element);\n",
              "          const docLink = document.createElement('div');\n",
              "          docLink.innerHTML = docLinkHtml;\n",
              "          element.appendChild(docLink);\n",
              "        }\n",
              "      </script>\n",
              "    </div>\n",
              "  </div>\n",
              "  "
            ]
          },
          "metadata": {},
          "execution_count": 14
        }
      ]
    },
    {
      "cell_type": "code",
      "source": [
        "df[['Parent Company', 'Acquisition Year', 'Acquisition Month',\n",
        "       'Acquired Company', 'Business']].nunique()"
      ],
      "metadata": {
        "colab": {
          "base_uri": "https://localhost:8080/"
        },
        "id": "mKyCgDriJIAq",
        "outputId": "e27b0210-8996-47cc-b5cd-667e28fec6b1"
      },
      "execution_count": 15,
      "outputs": [
        {
          "output_type": "execute_result",
          "data": {
            "text/plain": [
              "0\n",
              "Parent Company         14\n",
              "Acquisition Year       46\n",
              "Acquisition Month      12\n",
              "Acquired Company     1452\n",
              "Business              864\n",
              "dtype: int64"
            ]
          },
          "metadata": {},
          "execution_count": 15
        }
      ]
    },
    {
      "cell_type": "markdown",
      "source": [
        "---\n",
        "# <H2><b>Conclusions</b></H2>\n",
        "\n",
        "<p>To sum up, we do not have enought information to make the correct predictions.</p>"
      ],
      "metadata": {
        "id": "T7Uwk2AEQaUZ"
      }
    },
    {
      "cell_type": "code",
      "source": [],
      "metadata": {
        "id": "7H1qZbjMDWP0"
      },
      "execution_count": null,
      "outputs": []
    }
  ]
}